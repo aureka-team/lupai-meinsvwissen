{
 "cells": [
  {
   "cell_type": "code",
   "execution_count": null,
   "id": "055f7570",
   "metadata": {},
   "outputs": [],
   "source": [
    "import logfire\n",
    "\n",
    "from rich.pretty import pprint\n",
    "from llm_agents.utils.ionos import get_ionos_model\n",
    "\n",
    "from lupai_mw.multi_agent.utils import sensitive_topics\n",
    "from lupai_mw.llm_agents import SensitiveDetector, SensitiveDetectorDeps"
   ]
  },
  {
   "cell_type": "code",
   "execution_count": null,
   "id": "764a545d",
   "metadata": {},
   "outputs": [],
   "source": [
    "logfire.configure(service_name=\"lupai-meinsvwissen\")\n",
    "_ = logfire.instrument_pydantic_ai()\n",
    "_ = logfire.instrument_mcp()\n",
    "_ = logfire.instrument_openai()"
   ]
  },
  {
   "cell_type": "code",
   "execution_count": null,
   "id": "681e7791",
   "metadata": {},
   "outputs": [],
   "source": [
    "ionos_model = get_ionos_model(model_name=\"meta-llama/Llama-3.3-70B-Instruct\")\n",
    "sensitive_detector = SensitiveDetector(model=ionos_model)"
   ]
  },
  {
   "cell_type": "code",
   "execution_count": null,
   "id": "86e5cb30",
   "metadata": {},
   "outputs": [],
   "source": [
    "# query = \"This is an example query\"\n",
    "query = \"How can I buy a car?\"\n",
    "sd_output = await sensitive_detector.generate(\n",
    "    user_prompt=query,\n",
    "    agent_deps=SensitiveDetectorDeps(sensitive_topics=sensitive_topics),\n",
    ")\n",
    "\n",
    "pprint(sd_output)"
   ]
  },
  {
   "cell_type": "code",
   "execution_count": null,
   "id": "850a4663",
   "metadata": {},
   "outputs": [],
   "source": []
  }
 ],
 "metadata": {
  "kernelspec": {
   "display_name": "Python 3",
   "language": "python",
   "name": "python3"
  },
  "language_info": {
   "codemirror_mode": {
    "name": "ipython",
    "version": 3
   },
   "file_extension": ".py",
   "mimetype": "text/x-python",
   "name": "python",
   "nbconvert_exporter": "python",
   "pygments_lexer": "ipython3",
   "version": "3.12.3"
  }
 },
 "nbformat": 4,
 "nbformat_minor": 5
}
