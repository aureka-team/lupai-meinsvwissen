{
 "cells": [
  {
   "cell_type": "code",
   "execution_count": null,
   "id": "055f7570",
   "metadata": {},
   "outputs": [],
   "source": [
    "from rich.pretty import pprint\n",
    "from lupai_mw.llm_agents import Assistant\n",
    "from llm_agents.utils.ionos import get_ionos_model"
   ]
  },
  {
   "cell_type": "code",
   "execution_count": null,
   "id": "681e7791",
   "metadata": {},
   "outputs": [],
   "source": [
    "ionos_model = get_ionos_model(model_name=\"meta-llama/Llama-3.3-70B-Instruct\")\n",
    "assistant = Assistant(\n",
    "    model=ionos_model,\n",
    "    message_history_length=10,\n",
    ")"
   ]
  },
  {
   "cell_type": "code",
   "execution_count": null,
   "id": "86e5cb30",
   "metadata": {},
   "outputs": [],
   "source": [
    "query = \"What is acid rain?\"\n",
    "assistant_output = await assistant.generate(user_prompt=query)\n",
    "pprint(assistant_output)"
   ]
  },
  {
   "cell_type": "code",
   "execution_count": null,
   "id": "850a4663",
   "metadata": {},
   "outputs": [],
   "source": []
  }
 ],
 "metadata": {
  "kernelspec": {
   "display_name": "Python 3",
   "language": "python",
   "name": "python3"
  },
  "language_info": {
   "codemirror_mode": {
    "name": "ipython",
    "version": 3
   },
   "file_extension": ".py",
   "mimetype": "text/x-python",
   "name": "python",
   "nbconvert_exporter": "python",
   "pygments_lexer": "ipython3",
   "version": "3.12.3"
  }
 },
 "nbformat": 4,
 "nbformat_minor": 5
}
