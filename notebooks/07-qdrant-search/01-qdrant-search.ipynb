{
 "cells": [
  {
   "cell_type": "code",
   "execution_count": null,
   "id": "80164040",
   "metadata": {},
   "outputs": [],
   "source": [
    "from rich.pretty import pprint\n",
    "from qdrant_client import models\n",
    "\n",
    "from rage.retriever import Retriever\n",
    "from rage.utils.embeddings import get_openai_embeddings"
   ]
  },
  {
   "cell_type": "code",
   "execution_count": null,
   "id": "2664f90c",
   "metadata": {},
   "outputs": [],
   "source": [
    "retriever = Retriever(dense_embeddings=get_openai_embeddings())"
   ]
  },
  {
   "cell_type": "code",
   "execution_count": null,
   "id": "6306166b",
   "metadata": {},
   "outputs": [],
   "source": [
    "url = \"https://meinsvwissen.de/download/62/1-7-unterstuetzung/8716/seminaranbieter-fuer-workshops-projekttage-und-sv-fahrten-2.pdf\"\n",
    "scroll_filter = models.Filter(\n",
    "    must=[\n",
    "        models.FieldCondition(\n",
    "            key=\"metadata.url\",\n",
    "            match=models.MatchValue(value=url),\n",
    "        )\n",
    "    ]\n",
    ")\n",
    "\n",
    "results = retriever.scroll(\n",
    "    collection_name=\"general-sources\",\n",
    "    limit=10,\n",
    ")\n",
    "\n",
    "pprint(results)"
   ]
  },
  {
   "cell_type": "code",
   "execution_count": null,
   "id": "f9f30d69",
   "metadata": {},
   "outputs": [],
   "source": []
  }
 ],
 "metadata": {
  "kernelspec": {
   "display_name": "Python 3",
   "language": "python",
   "name": "python3"
  },
  "language_info": {
   "codemirror_mode": {
    "name": "ipython",
    "version": 3
   },
   "file_extension": ".py",
   "mimetype": "text/x-python",
   "name": "python",
   "nbconvert_exporter": "python",
   "pygments_lexer": "ipython3",
   "version": "3.12.3"
  }
 },
 "nbformat": 4,
 "nbformat_minor": 5
}
