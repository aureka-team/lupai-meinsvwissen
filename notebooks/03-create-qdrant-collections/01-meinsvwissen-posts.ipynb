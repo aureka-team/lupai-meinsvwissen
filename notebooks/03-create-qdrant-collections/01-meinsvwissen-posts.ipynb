{
 "cells": [
  {
   "cell_type": "code",
   "execution_count": null,
   "id": "eca0198d",
   "metadata": {},
   "outputs": [],
   "source": [
    "from rich.pretty import pprint\n",
    "\n",
    "from rage.retriever import Retriever\n",
    "from rage.splitters import TokenSplitter\n",
    "\n",
    "from lupai_mw.loaders import PostLoader"
   ]
  },
  {
   "cell_type": "markdown",
   "id": "9d4caee0",
   "metadata": {},
   "source": [
    "### Out of topic / domaain (representaciones estudiantiles)\n",
    "\n",
    "### Sensible topic detector (refrencias a sitiacioones de violencia, cualquier tipo de vilencia, racisme y discrimination)\n"
   ]
  },
  {
   "cell_type": "code",
   "execution_count": null,
   "id": "163d752b",
   "metadata": {},
   "outputs": [],
   "source": [
    "post_loader = PostLoader()\n",
    "documents = await post_loader.load()\n",
    "\n",
    "print(f\"documents => {len(documents)}\")\n",
    "pprint(documents[:5])"
   ]
  },
  {
   "cell_type": "code",
   "execution_count": null,
   "id": "991b0c3b",
   "metadata": {},
   "outputs": [],
   "source": [
    "splitter = TokenSplitter()\n",
    "text_chunks = splitter.split_documents(documents=documents)\n",
    "\n",
    "print(f\"text_chunks => {len(text_chunks)}\")\n",
    "pprint(text_chunks[:5])"
   ]
  },
  {
   "cell_type": "code",
   "execution_count": null,
   "id": "5b6f7c6a",
   "metadata": {},
   "outputs": [],
   "source": [
    "retriever = Retriever()\n",
    "\n",
    "collection_name = \"meinsvwissen-posts\"\n",
    "retriever.create_collection(collection_name=collection_name)"
   ]
  },
  {
   "cell_type": "code",
   "execution_count": null,
   "id": "2314f9ba",
   "metadata": {},
   "outputs": [],
   "source": [
    "retriever.insert_text_chunks(\n",
    "    collection_name=collection_name,\n",
    "    text_chunks=text_chunks,\n",
    ")"
   ]
  }
 ],
 "metadata": {
  "kernelspec": {
   "display_name": "Python 3",
   "language": "python",
   "name": "python3"
  },
  "language_info": {
   "codemirror_mode": {
    "name": "ipython",
    "version": 3
   },
   "file_extension": ".py",
   "mimetype": "text/x-python",
   "name": "python",
   "nbconvert_exporter": "python",
   "pygments_lexer": "ipython3",
   "version": "3.12.3"
  }
 },
 "nbformat": 4,
 "nbformat_minor": 5
}
