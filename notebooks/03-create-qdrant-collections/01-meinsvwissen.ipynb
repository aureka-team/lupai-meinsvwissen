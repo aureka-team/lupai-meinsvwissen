{
 "cells": [
  {
   "cell_type": "code",
   "execution_count": null,
   "id": "eca0198d",
   "metadata": {},
   "outputs": [],
   "source": [
    "from rich.pretty import pprint\n",
    "\n",
    "from rage.retriever import Retriever\n",
    "from rage.utils.embeddings import get_openai_embeddings\n",
    "from rage.splitters import TokenSplitter, MarkdownSplitter\n",
    "\n",
    "from lupai_mw.loaders import PostLoader, FileLoader"
   ]
  },
  {
   "cell_type": "code",
   "execution_count": null,
   "id": "163d752b",
   "metadata": {},
   "outputs": [],
   "source": [
    "post_loader = PostLoader()\n",
    "post_documents = await post_loader.load()\n",
    "\n",
    "print(f\"post_documents => {len(post_documents)}\")\n",
    "pprint(post_documents[:2])"
   ]
  },
  {
   "cell_type": "code",
   "execution_count": null,
   "id": "e6c10e17",
   "metadata": {},
   "outputs": [],
   "source": [
    "file_loader = FileLoader()\n",
    "file_documents = await file_loader.load()\n",
    "\n",
    "print(f\"file_documents => {len(file_documents)}\")\n",
    "pprint(file_documents[:2])"
   ]
  },
  {
   "cell_type": "code",
   "execution_count": null,
   "id": "991b0c3b",
   "metadata": {},
   "outputs": [],
   "source": [
    "token_splitter = TokenSplitter()\n",
    "post_chunks = token_splitter.split_documents(documents=post_documents)\n",
    "\n",
    "print(f\"post_chunks => {len(post_chunks)}\")\n",
    "pprint(post_chunks[:2])"
   ]
  },
  {
   "cell_type": "code",
   "execution_count": null,
   "id": "8dc1d0e5",
   "metadata": {},
   "outputs": [],
   "source": [
    "markdown_splitter = MarkdownSplitter()\n",
    "file_chunks = markdown_splitter.split_documents(documents=file_documents)\n",
    "\n",
    "print(f\"file_chunks => {len(file_chunks)}\")\n",
    "pprint(file_chunks[:2])"
   ]
  },
  {
   "cell_type": "code",
   "execution_count": null,
   "id": "9b979ea6",
   "metadata": {},
   "outputs": [],
   "source": [
    "text_chunks = post_chunks + file_chunks\n",
    "print(f\"text_chunks => {len(text_chunks)}\")"
   ]
  },
  {
   "cell_type": "code",
   "execution_count": null,
   "id": "5b6f7c6a",
   "metadata": {},
   "outputs": [],
   "source": [
    "dense_embeddings = get_openai_embeddings()\n",
    "retriever = Retriever(dense_embeddings=dense_embeddings)\n",
    "\n",
    "collection_name = \"meinsvwissen-documents\"\n",
    "retriever.create_collection(collection_name=collection_name)\n",
    "\n",
    "retriever.insert_text_chunks(\n",
    "    collection_name=collection_name,\n",
    "    text_chunks=text_chunks,\n",
    ")"
   ]
  },
  {
   "cell_type": "code",
   "execution_count": null,
   "id": "d2386aaf",
   "metadata": {},
   "outputs": [],
   "source": [
    "# dense_embeddings = get_ionos_embeddings()\n",
    "# retriever = Retriever(dense_embeddings=dense_embeddings)\n",
    "\n",
    "# collection_name = \"meinsvwissen-documents-ionos\"\n",
    "# retriever.create_collection(collection_name=collection_name)\n",
    "\n",
    "# retriever.insert_text_chunks(\n",
    "#     collection_name=collection_name,\n",
    "#     text_chunks=text_chunks,\n",
    "# )"
   ]
  },
  {
   "cell_type": "code",
   "execution_count": null,
   "id": "de289b39",
   "metadata": {},
   "outputs": [],
   "source": []
  }
 ],
 "metadata": {
  "kernelspec": {
   "display_name": "Python 3",
   "language": "python",
   "name": "python3"
  },
  "language_info": {
   "codemirror_mode": {
    "name": "ipython",
    "version": 3
   },
   "file_extension": ".py",
   "mimetype": "text/x-python",
   "name": "python",
   "nbconvert_exporter": "python",
   "pygments_lexer": "ipython3",
   "version": "3.12.3"
  }
 },
 "nbformat": 4,
 "nbformat_minor": 5
}
