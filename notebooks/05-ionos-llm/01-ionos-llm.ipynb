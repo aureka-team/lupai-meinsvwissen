{
 "cells": [
  {
   "cell_type": "code",
   "execution_count": null,
   "id": "8768bf9a",
   "metadata": {},
   "outputs": [],
   "source": [
    "import os\n",
    "\n",
    "from pydantic_ai import Agent\n",
    "from pydantic_ai.models.openai import OpenAIModel\n",
    "from pydantic_ai.providers.openai import OpenAIProvider"
   ]
  },
  {
   "cell_type": "code",
   "execution_count": null,
   "id": "dd242f94",
   "metadata": {},
   "outputs": [],
   "source": [
    "provider = OpenAIProvider(\n",
    "    api_key=os.environ[\"IONOS_TOKEN\"],\n",
    "    base_url=\"https://openai.inference.de-txl.ionos.com/v1\",\n",
    ")"
   ]
  },
  {
   "cell_type": "code",
   "execution_count": null,
   "id": "352a8bc1",
   "metadata": {},
   "outputs": [],
   "source": [
    "model = OpenAIModel(\n",
    "    model_name=\"meta-llama/Llama-3.3-70B-Instruct\",\n",
    "    provider=provider,\n",
    ")"
   ]
  },
  {
   "cell_type": "code",
   "execution_count": null,
   "id": "436e5a32",
   "metadata": {},
   "outputs": [],
   "source": [
    "agent = Agent(\n",
    "    model,\n",
    "    system_prompt=\"You are a concise assistant.\",\n",
    ")"
   ]
  },
  {
   "cell_type": "code",
   "execution_count": null,
   "id": "dee98ba0",
   "metadata": {},
   "outputs": [],
   "source": [
    "result = await agent.run(\n",
    "    \"Give me three fun facts about Berlin, aswer in German\"\n",
    ")\n",
    "print(result.output)"
   ]
  }
 ],
 "metadata": {
  "kernelspec": {
   "display_name": "Python 3",
   "language": "python",
   "name": "python3"
  },
  "language_info": {
   "codemirror_mode": {
    "name": "ipython",
    "version": 3
   },
   "file_extension": ".py",
   "mimetype": "text/x-python",
   "name": "python",
   "nbconvert_exporter": "python",
   "pygments_lexer": "ipython3",
   "version": "3.12.3"
  }
 },
 "nbformat": 4,
 "nbformat_minor": 5
}
