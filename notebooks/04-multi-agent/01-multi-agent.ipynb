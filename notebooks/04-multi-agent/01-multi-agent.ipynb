{
    "cells": [
        {
            "cell_type": "code",
            "execution_count": null,
            "id": "fc67ab65",
            "metadata": {},
            "outputs": [],
            "source": [
                "import uuid\n",
                "import logfire\n",
                "\n",
                "from rich.markdown import Markdown\n",
                "from rich.pretty import pprint\n",
                "\n",
                "from lupai_mw.multi_agent.schema import State\n",
                "from lupai_mw.multi_agent import (\n",
                "    get_multi_agent,\n",
                "    get_multi_agent_context,\n",
                "    MultiAgentConfig,\n",
                ")"
            ]
        },
        {
            "cell_type": "code",
            "execution_count": null,
            "id": "72363f92",
            "metadata": {},
            "outputs": [],
            "source": [
                "logfire.configure(service_name=\"lupai-meinsvwissen\")\n",
                "_ = logfire.instrument_pydantic_ai()\n",
                "_ = logfire.instrument_mcp()\n",
                "_ = logfire.instrument_openai()"
            ]
        },
        {
            "cell_type": "code",
            "execution_count": null,
            "id": "da2b574d",
            "metadata": {},
            "outputs": [],
            "source": [
                "multi_agent = get_multi_agent()\n",
                "multi_agent.compile()\n",
                "multi_agent.display_graph(draw_type=\"mermaid\")"
            ]
        },
        {
            "cell_type": "code",
            "execution_count": null,
            "id": "738c2a7e",
            "metadata": {},
            "outputs": [],
            "source": [
                "multi_agent_context = get_multi_agent_context(config=MultiAgentConfig())\n",
                "pprint(multi_agent_context)"
            ]
        },
        {
            "cell_type": "code",
            "execution_count": null,
            "id": "7dc4a7c1",
            "metadata": {},
            "outputs": [],
            "source": [
                "# query = \"Como organizo una reprsentación estudiantil?\"\n",
                "# query = \"Sólo somos 2 compañeros y yo\"\n",
                "\n",
                "# query = \"was ist der unterschied zwisschen konsensieren und kompromis?\"\n",
                "query = \"What is the difference between consent and compromise?\"\n",
                "# query = \"How can I buy a car?\"\n",
                "\n",
                "session_id = uuid.uuid4().hex\n",
                "# session_id = \"7dff46ef53f6445b8da127cecdb55633\"\n",
                "state = await multi_agent.run(\n",
                "    input_state=State(\n",
                "        session_id=session_id,\n",
                "        query=query,\n",
                "    ),\n",
                "    context=multi_agent_context,\n",
                "    thread_id=session_id,\n",
                ")\n",
                "\n",
                "pprint(state)"
            ]
        },
        {
            "cell_type": "code",
            "execution_count": null,
            "id": "17fc4ff3",
            "metadata": {},
            "outputs": [],
            "source": [
                "Markdown(state.assistant_response)"
            ]
        }
    ],
    "metadata": {
        "kernelspec": {
            "display_name": "Python 3",
            "language": "python",
            "name": "python3"
        },
        "language_info": {
            "codemirror_mode": {
                "name": "ipython",
                "version": 3
            },
            "file_extension": ".py",
            "mimetype": "text/x-python",
            "name": "python",
            "nbconvert_exporter": "python",
            "pygments_lexer": "ipython3",
            "version": "3.12.3"
        }
    },
    "nbformat": 4,
    "nbformat_minor": 5
}
