{
 "cells": [
  {
   "cell_type": "code",
   "execution_count": null,
   "id": "fc67ab65",
   "metadata": {},
   "outputs": [],
   "source": [
    "import uuid\n",
    "\n",
    "from rich.pretty import pprint\n",
    "\n",
    "from lupai_mw.multi_agent.schema import StateSchema\n",
    "from lupai_mw.multi_agent import get_multi_agent, get_multi_agent_context"
   ]
  },
  {
   "cell_type": "code",
   "execution_count": null,
   "id": "da2b574d",
   "metadata": {},
   "outputs": [],
   "source": [
    "multi_agent = get_multi_agent()\n",
    "multi_agent.compile()\n",
    "multi_agent.display_graph()"
   ]
  },
  {
   "cell_type": "code",
   "execution_count": null,
   "id": "738c2a7e",
   "metadata": {},
   "outputs": [],
   "source": [
    "multi_agent_context = get_multi_agent_context()\n",
    "pprint(multi_agent_context)"
   ]
  },
  {
   "cell_type": "code",
   "execution_count": null,
   "id": "7dc4a7c1",
   "metadata": {},
   "outputs": [],
   "source": [
    "query = \"How can I buy a car?\"\n",
    "\n",
    "session_id = uuid.uuid4()\n",
    "state = await multi_agent.run(\n",
    "    input_state=StateSchema(\n",
    "        session_id=session_id.hex,\n",
    "        query=query,\n",
    "    ),\n",
    "    context=multi_agent_context,\n",
    "    thread_id=session_id,\n",
    ")"
   ]
  },
  {
   "cell_type": "code",
   "execution_count": null,
   "id": "5585bf03",
   "metadata": {},
   "outputs": [],
   "source": [
    "pprint(state)"
   ]
  }
 ],
 "metadata": {
  "kernelspec": {
   "display_name": "Python 3",
   "language": "python",
   "name": "python3"
  },
  "language_info": {
   "codemirror_mode": {
    "name": "ipython",
    "version": 3
   },
   "file_extension": ".py",
   "mimetype": "text/x-python",
   "name": "python",
   "nbconvert_exporter": "python",
   "pygments_lexer": "ipython3",
   "version": "3.12.3"
  }
 },
 "nbformat": 4,
 "nbformat_minor": 5
}
