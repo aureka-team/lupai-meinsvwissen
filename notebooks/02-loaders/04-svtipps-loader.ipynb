{
 "cells": [
  {
   "cell_type": "code",
   "execution_count": null,
   "id": "0460196b",
   "metadata": {},
   "outputs": [],
   "source": [
    "import random\n",
    "\n",
    "from rich.pretty import pprint\n",
    "from rich.markdown import Markdown\n",
    "\n",
    "from lupai_mw.loaders import SvtippsLoader"
   ]
  },
  {
   "cell_type": "code",
   "execution_count": null,
   "id": "5a313acc",
   "metadata": {},
   "outputs": [],
   "source": [
    "loader = SvtippsLoader()\n",
    "documents = await loader.load()\n",
    "\n",
    "print(f\"documents => {len(documents)}\")"
   ]
  },
  {
   "cell_type": "code",
   "execution_count": null,
   "id": "200f1ed6",
   "metadata": {},
   "outputs": [],
   "source": [
    "document = random.choice(documents)\n",
    "\n",
    "pprint(document.metadata)\n",
    "Markdown(document.text)"
   ]
  },
  {
   "cell_type": "code",
   "execution_count": null,
   "id": "6a2c5fba",
   "metadata": {},
   "outputs": [],
   "source": []
  }
 ],
 "metadata": {
  "kernelspec": {
   "display_name": "Python 3",
   "language": "python",
   "name": "python3"
  },
  "language_info": {
   "codemirror_mode": {
    "name": "ipython",
    "version": 3
   },
   "file_extension": ".py",
   "mimetype": "text/x-python",
   "name": "python",
   "nbconvert_exporter": "python",
   "pygments_lexer": "ipython3",
   "version": "3.13.3"
  }
 },
 "nbformat": 4,
 "nbformat_minor": 5
}
