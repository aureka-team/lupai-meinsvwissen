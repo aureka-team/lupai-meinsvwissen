{
 "cells": [
  {
   "cell_type": "code",
   "execution_count": null,
   "id": "0460196b",
   "metadata": {},
   "outputs": [],
   "source": [
    "import random\n",
    "\n",
    "from rich.pretty import pprint\n",
    "from rich.markdown import Markdown\n",
    "\n",
    "from common.cache import RedisCache\n",
    "from lupai_mw.loaders import FileLoader"
   ]
  },
  {
   "cell_type": "code",
   "execution_count": null,
   "id": "5a313acc",
   "metadata": {},
   "outputs": [],
   "source": [
    "cache = RedisCache()\n",
    "loader = FileLoader(cache=cache)\n",
    "\n",
    "documents = await loader.load()\n",
    "print(f\"documents => {len(documents)}\")"
   ]
  },
  {
   "cell_type": "code",
   "execution_count": null,
   "id": "7707f705",
   "metadata": {},
   "outputs": [],
   "source": [
    "len([doc for doc in documents if doc.metadata[\"germany_region\"] is not None])"
   ]
  },
  {
   "cell_type": "code",
   "execution_count": null,
   "id": "200f1ed6",
   "metadata": {},
   "outputs": [],
   "source": [
    "document = random.choice(documents)\n",
    "\n",
    "pprint(document.metadata)\n",
    "Markdown(document.text)"
   ]
  },
  {
   "cell_type": "code",
   "execution_count": null,
   "id": "c11e7fbe",
   "metadata": {},
   "outputs": [],
   "source": []
  }
 ],
 "metadata": {
  "kernelspec": {
   "display_name": "Python 3",
   "language": "python",
   "name": "python3"
  },
  "language_info": {
   "codemirror_mode": {
    "name": "ipython",
    "version": 3
   },
   "file_extension": ".py",
   "mimetype": "text/x-python",
   "name": "python",
   "nbconvert_exporter": "python",
   "pygments_lexer": "ipython3",
   "version": "3.13.3"
  }
 },
 "nbformat": 4,
 "nbformat_minor": 5
}
