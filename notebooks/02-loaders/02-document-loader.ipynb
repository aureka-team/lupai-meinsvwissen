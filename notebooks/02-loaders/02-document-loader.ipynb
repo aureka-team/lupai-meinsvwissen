{
 "cells": [
  {
   "cell_type": "code",
   "execution_count": null,
   "id": "0460196b",
   "metadata": {},
   "outputs": [],
   "source": [
    "from rich.pretty import pprint\n",
    "from lupai_mw.loaders import DocumentLoader"
   ]
  },
  {
   "cell_type": "code",
   "execution_count": null,
   "id": "5a313acc",
   "metadata": {},
   "outputs": [],
   "source": [
    "document_loader = DocumentLoader()\n",
    "documents = await document_loader.load()\n",
    "\n",
    "print(f\"documents => {len(documents)}\")\n",
    "pprint(documents[:5])"
   ]
  },
  {
   "cell_type": "code",
   "execution_count": null,
   "id": "1b2e9106",
   "metadata": {},
   "outputs": [],
   "source": []
  }
 ],
 "metadata": {
  "kernelspec": {
   "display_name": "Python 3",
   "language": "python",
   "name": "python3"
  },
  "language_info": {
   "codemirror_mode": {
    "name": "ipython",
    "version": 3
   },
   "file_extension": ".py",
   "mimetype": "text/x-python",
   "name": "python",
   "nbconvert_exporter": "python",
   "pygments_lexer": "ipython3",
   "version": "3.12.3"
  }
 },
 "nbformat": 4,
 "nbformat_minor": 5
}
