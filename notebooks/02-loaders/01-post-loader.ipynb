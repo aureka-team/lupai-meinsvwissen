{
 "cells": [
  {
   "cell_type": "code",
   "execution_count": null,
   "id": "0460196b",
   "metadata": {},
   "outputs": [],
   "source": [
    "import random\n",
    "\n",
    "from rich.pretty import pprint\n",
    "from rich.markdown import Markdown\n",
    "\n",
    "from lupai_mw.loaders import PostLoader"
   ]
  },
  {
   "cell_type": "code",
   "execution_count": null,
   "id": "5a313acc",
   "metadata": {},
   "outputs": [],
   "source": [
    "post_loader = PostLoader()\n",
    "documents = await post_loader.load()\n",
    "\n",
    "print(f\"documents => {len(documents)}\")"
   ]
  },
  {
   "cell_type": "code",
   "execution_count": null,
   "id": "1b2e9106",
   "metadata": {},
   "outputs": [],
   "source": [
    "document = random.choice(documents)\n",
    "pprint(document)\n",
    "\n",
    "Markdown(document.text)"
   ]
  },
  {
   "cell_type": "code",
   "execution_count": null,
   "id": "2f3e421f",
   "metadata": {},
   "outputs": [],
   "source": []
  }
 ],
 "metadata": {
  "kernelspec": {
   "display_name": "Python 3",
   "language": "python",
   "name": "python3"
  },
  "language_info": {
   "codemirror_mode": {
    "name": "ipython",
    "version": 3
   },
   "file_extension": ".py",
   "mimetype": "text/x-python",
   "name": "python",
   "nbconvert_exporter": "python",
   "pygments_lexer": "ipython3",
   "version": "3.13.3"
  }
 },
 "nbformat": 4,
 "nbformat_minor": 5
}
