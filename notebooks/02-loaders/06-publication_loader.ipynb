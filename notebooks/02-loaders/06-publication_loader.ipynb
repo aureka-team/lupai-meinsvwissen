{
 "cells": [
  {
   "cell_type": "code",
   "execution_count": null,
   "id": "0460196b",
   "metadata": {},
   "outputs": [],
   "source": [
    "import random\n",
    "\n",
    "from rich.pretty import pprint\n",
    "from rich.markdown import Markdown\n",
    "\n",
    "from lupai_mw.loaders import PublicationLoader"
   ]
  },
  {
   "cell_type": "code",
   "execution_count": null,
   "id": "5a313acc",
   "metadata": {},
   "outputs": [],
   "source": [
    "loader = PublicationLoader()\n",
    "documents = await loader.load()\n",
    "\n",
    "print(f\"documents => {len(documents)}\")"
   ]
  },
  {
   "cell_type": "code",
   "execution_count": null,
   "id": "3cba598c",
   "metadata": {},
   "outputs": [],
   "source": [
    "# url = \"https://meinsvwissen.de/download/159/so-weird-that/7497/this-does-not-matter\"\n",
    "url = \"https://meinsvwissen.de/download/87/so-weird-that/3916/this-does-not-matter\"\n",
    "\n",
    "[doc for doc in documents if url in doc.metadata[\"url\"]]"
   ]
  },
  {
   "cell_type": "code",
   "execution_count": null,
   "id": "200f1ed6",
   "metadata": {},
   "outputs": [],
   "source": [
    "document = random.choice(documents)\n",
    "\n",
    "pprint(document.metadata)\n",
    "Markdown(document.text)"
   ]
  },
  {
   "cell_type": "code",
   "execution_count": null,
   "id": "6a2c5fba",
   "metadata": {},
   "outputs": [],
   "source": []
  }
 ],
 "metadata": {
  "kernelspec": {
   "display_name": "Python 3",
   "language": "python",
   "name": "python3"
  },
  "language_info": {
   "codemirror_mode": {
    "name": "ipython",
    "version": 3
   },
   "file_extension": ".py",
   "mimetype": "text/x-python",
   "name": "python",
   "nbconvert_exporter": "python",
   "pygments_lexer": "ipython3",
   "version": "3.13.3"
  }
 },
 "nbformat": 4,
 "nbformat_minor": 5
}
