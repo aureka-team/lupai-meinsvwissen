{
 "cells": [
  {
   "cell_type": "code",
   "execution_count": null,
   "id": "c632978b",
   "metadata": {},
   "outputs": [],
   "source": [
    "# import json\n",
    "import requests\n",
    "import polars as pl\n"
   ]
  },
  {
   "cell_type": "code",
   "execution_count": null,
   "id": "b47b7fdc",
   "metadata": {},
   "outputs": [],
   "source": [
    "BASE_URL = \"https://cdl-segg.fra1.cdn.digitaloceanspaces.com/cdl-segg\""
   ]
  },
  {
   "cell_type": "code",
   "execution_count": null,
   "id": "7574d889",
   "metadata": {},
   "outputs": [],
   "source": [
    "posts_url = f\"{BASE_URL}/posts.parquet\"\n",
    "response = requests.get(posts_url)\n",
    "response.raise_for_status()\n",
    "\n",
    "df = pl.read_parquet(response.content)\n",
    "print(len(df))\n",
    "\n",
    "df.head()"
   ]
  },
  {
   "cell_type": "code",
   "execution_count": null,
   "id": "ccf78cb4",
   "metadata": {},
   "outputs": [],
   "source": [
    "posts_url = f\"{BASE_URL}/sections.parquet\"\n",
    "response = requests.get(posts_url)\n",
    "response.raise_for_status()\n",
    "\n",
    "df = pl.read_parquet(response.content)\n",
    "print(len(df))\n",
    "\n",
    "df.head()"
   ]
  },
  {
   "cell_type": "code",
   "execution_count": null,
   "id": "964f98b3",
   "metadata": {},
   "outputs": [],
   "source": [
    "posts_url = f\"{BASE_URL}/glossary_terms.parquet\"\n",
    "response = requests.get(posts_url)\n",
    "response.raise_for_status()\n",
    "\n",
    "df = pl.read_parquet(response.content)\n",
    "print(len(df))\n",
    "\n",
    "df.head()"
   ]
  },
  {
   "cell_type": "code",
   "execution_count": null,
   "id": "d58c7735",
   "metadata": {},
   "outputs": [],
   "source": [
    "posts_url = f\"{BASE_URL}/downloads.parquet\"\n",
    "response = requests.get(posts_url)\n",
    "response.raise_for_status()\n",
    "\n",
    "df = pl.read_parquet(response.content)\n",
    "print(len(df))\n",
    "\n",
    "df.head()"
   ]
  },
  {
   "cell_type": "code",
   "execution_count": null,
   "id": "ee5f965a",
   "metadata": {},
   "outputs": [],
   "source": [
    "publication_url = f\"{BASE_URL}/publications.parquet\"\n",
    "response = requests.get(publication_url)\n",
    "response.raise_for_status()\n",
    "\n",
    "df = pl.read_parquet(response.content)\n",
    "print(len(df))\n",
    "\n",
    "df.head()"
   ]
  },
  {
   "cell_type": "code",
   "execution_count": null,
   "id": "de843f9d",
   "metadata": {},
   "outputs": [],
   "source": [
    "# downloads_tree_obj = s3.get_object(\n",
    "#     Bucket=bucket_name,\n",
    "#     Key=\"cdl-segg/downloads_tree.json\",\n",
    "# )\n",
    "\n",
    "# downloads_tree_data = downloads_tree_obj[\"Body\"].read()\n",
    "# downloads_tree = json.loads(downloads_tree_data)\n",
    "# pprint(downloads_tree)"
   ]
  },
  {
   "cell_type": "code",
   "execution_count": null,
   "id": "cf724045",
   "metadata": {},
   "outputs": [],
   "source": []
  }
 ],
 "metadata": {
  "kernelspec": {
   "display_name": "Python 3",
   "language": "python",
   "name": "python3"
  },
  "language_info": {
   "codemirror_mode": {
    "name": "ipython",
    "version": 3
   },
   "file_extension": ".py",
   "mimetype": "text/x-python",
   "name": "python",
   "nbconvert_exporter": "python",
   "pygments_lexer": "ipython3",
   "version": "3.12.3"
  }
 },
 "nbformat": 4,
 "nbformat_minor": 5
}
