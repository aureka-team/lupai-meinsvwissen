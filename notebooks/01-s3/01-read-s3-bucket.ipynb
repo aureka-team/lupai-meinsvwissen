{
 "cells": [
  {
   "cell_type": "code",
   "execution_count": null,
   "id": "c632978b",
   "metadata": {},
   "outputs": [],
   "source": [
    "# import json\n",
    "import boto3\n",
    "\n",
    "import polars as pl\n",
    "\n",
    "from botocore import UNSIGNED\n",
    "from botocore.client import Config\n",
    "\n",
    "from rich.pretty import pprint\n"
   ]
  },
  {
   "cell_type": "code",
   "execution_count": null,
   "id": "b47b7fdc",
   "metadata": {},
   "outputs": [],
   "source": [
    "endpoint_url = \"https://fra1.digitaloceanspaces.com\"\n",
    "bucket_name = \"cdl-segg\""
   ]
  },
  {
   "cell_type": "code",
   "execution_count": null,
   "id": "5d99ce6e",
   "metadata": {},
   "outputs": [],
   "source": [
    "s3 = boto3.client(\n",
    "    \"s3\",\n",
    "    region_name=\"fra1\",\n",
    "    endpoint_url=endpoint_url,\n",
    "    config=Config(signature_version=UNSIGNED),\n",
    ")"
   ]
  },
  {
   "cell_type": "code",
   "execution_count": null,
   "id": "71c701a1",
   "metadata": {},
   "outputs": [],
   "source": [
    "paginator = s3.get_paginator(\"list_objects_v2\")\n",
    "for page in paginator.paginate(Bucket=bucket_name):\n",
    "    for obj in page[\"Contents\"]:\n",
    "        print(obj[\"Key\"])"
   ]
  },
  {
   "cell_type": "code",
   "execution_count": null,
   "id": "ccf78cb4",
   "metadata": {},
   "outputs": [],
   "source": [
    "sections_obj = s3.get_object(\n",
    "    Bucket=bucket_name,\n",
    "    Key=\"cdl-segg/sections.parquet\",\n",
    ")\n",
    "\n",
    "sections_data = sections_obj[\"Body\"].read()\n",
    "df = pl.read_parquet(source=sections_data)\n",
    "print(len(df))\n",
    "df"
   ]
  },
  {
   "cell_type": "code",
   "execution_count": null,
   "id": "c48139cb",
   "metadata": {},
   "outputs": [],
   "source": [
    "posts_obj = s3.get_object(\n",
    "    Bucket=bucket_name,\n",
    "    Key=\"cdl-segg/posts.parquet\",\n",
    ")\n",
    "\n",
    "posts_data = posts_obj[\"Body\"].read()\n",
    "df = pl.read_parquet(source=posts_data)\n",
    "print(len(df))\n",
    "df"
   ]
  },
  {
   "cell_type": "code",
   "execution_count": null,
   "id": "964f98b3",
   "metadata": {},
   "outputs": [],
   "source": [
    "glossary_terms_obj = s3.get_object(\n",
    "    Bucket=bucket_name,\n",
    "    Key=\"cdl-segg/glossary_terms.parquet\",\n",
    ")\n",
    "\n",
    "glossary_terms_data = glossary_terms_obj[\"Body\"].read()\n",
    "df = pl.read_parquet(source=glossary_terms_data)\n",
    "print(len(df))\n",
    "df"
   ]
  },
  {
   "cell_type": "code",
   "execution_count": null,
   "id": "d58c7735",
   "metadata": {},
   "outputs": [],
   "source": [
    "downloads_obj = s3.get_object(\n",
    "    Bucket=bucket_name,\n",
    "    Key=\"cdl-segg/downloads.parquet\",\n",
    ")\n",
    "\n",
    "downloads_data = downloads_obj[\"Body\"].read()\n",
    "df = pl.read_parquet(source=downloads_data)\n",
    "print(len(df))\n",
    "df"
   ]
  },
  {
   "cell_type": "code",
   "execution_count": null,
   "id": "98de4f2a",
   "metadata": {},
   "outputs": [],
   "source": [
    "df[\"data_id\"].unique()"
   ]
  },
  {
   "cell_type": "code",
   "execution_count": null,
   "id": "de843f9d",
   "metadata": {},
   "outputs": [],
   "source": [
    "# downloads_tree_obj = s3.get_object(\n",
    "#     Bucket=bucket_name,\n",
    "#     Key=\"cdl-segg/downloads_tree.json\",\n",
    "# )\n",
    "\n",
    "# downloads_tree_data = downloads_tree_obj[\"Body\"].read()\n",
    "# downloads_tree = json.loads(downloads_tree_data)\n",
    "# pprint(downloads_tree)"
   ]
  },
  {
   "cell_type": "code",
   "execution_count": null,
   "id": "cf724045",
   "metadata": {},
   "outputs": [],
   "source": []
  }
 ],
 "metadata": {
  "kernelspec": {
   "display_name": "Python 3",
   "language": "python",
   "name": "python3"
  },
  "language_info": {
   "codemirror_mode": {
    "name": "ipython",
    "version": 3
   },
   "file_extension": ".py",
   "mimetype": "text/x-python",
   "name": "python",
   "nbconvert_exporter": "python",
   "pygments_lexer": "ipython3",
   "version": "3.12.3"
  }
 },
 "nbformat": 4,
 "nbformat_minor": 5
}
