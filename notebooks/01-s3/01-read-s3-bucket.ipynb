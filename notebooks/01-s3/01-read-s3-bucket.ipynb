{
 "cells": [
  {
   "cell_type": "code",
   "execution_count": 1,
   "id": "c632978b",
   "metadata": {},
   "outputs": [],
   "source": [
    "import os\n",
    "import json\n",
    "import boto3\n",
    "import requests\n",
    "\n",
    "import polars as pl\n",
    "\n",
    "from botocore import UNSIGNED\n",
    "from botocore.config import Config\n",
    "\n",
    "from rich.pretty import pprint\n"
   ]
  },
  {
   "cell_type": "code",
   "execution_count": 2,
   "id": "b47b7fdc",
   "metadata": {},
   "outputs": [],
   "source": [
    "BASE_URL = \"https://cdl-segg.fra1.cdn.digitaloceanspaces.com/cdl-segg\""
   ]
  },
  {
   "cell_type": "code",
   "execution_count": 3,
   "id": "4aa412d7",
   "metadata": {},
   "outputs": [],
   "source": [
    "def get_df(file_name: str) -> pl.DataFrame:\n",
    "    response = requests.get(f\"{BASE_URL}/{file_name}\")\n",
    "    response.raise_for_status()\n",
    "\n",
    "    return pl.read_parquet(response.content)"
   ]
  },
  {
   "cell_type": "code",
   "execution_count": 4,
   "id": "ccca9b39",
   "metadata": {},
   "outputs": [],
   "source": [
    "def get_json(file_name: str) -> dict:\n",
    "    response = requests.get(f\"{BASE_URL}/{file_name}\")\n",
    "    response.raise_for_status()\n",
    "\n",
    "    return json.loads(response.content)"
   ]
  },
  {
   "cell_type": "code",
   "execution_count": 5,
   "id": "90c24842",
   "metadata": {},
   "outputs": [],
   "source": [
    "def show_bucket_objects() -> None:\n",
    "    s3 = boto3.client(\n",
    "        \"s3\",\n",
    "        endpoint_url=\"https://fra1.digitaloceanspaces.com\",\n",
    "        config=Config(signature_version=UNSIGNED),\n",
    "    )\n",
    "\n",
    "    bucket_name = \"cdl-segg\"\n",
    "    resp = s3.list_objects_v2(\n",
    "        Bucket=bucket_name,\n",
    "        Prefix=\"cdl-segg/\",\n",
    "    )\n",
    "\n",
    "    parquets = (os.path.basename(item[\"Key\"]) for item in resp[\"Contents\"])\n",
    "    parquets = [p for p in parquets if not p.startswith(\"smoke_test_\")]\n",
    "\n",
    "    print(f\"parquets: {len(parquets)}\")\n",
    "    pprint(parquets)"
   ]
  },
  {
   "cell_type": "code",
   "execution_count": 6,
   "id": "9ac1d5f3",
   "metadata": {},
   "outputs": [
    {
     "name": "stdout",
     "output_type": "stream",
     "text": [
      "parquets: 9\n"
     ]
    },
    {
     "data": {
      "text/html": [
       "<pre style=\"white-space:pre;overflow-x:auto;line-height:normal;font-family:Menlo,'DejaVu Sans Mono',consolas,'Courier New',monospace\"><span style=\"font-weight: bold\">[</span>\n",
       "<span style=\"color: #7fbf7f; text-decoration-color: #7fbf7f\">│   </span><span style=\"color: #008000; text-decoration-color: #008000\">'downloads.parquet'</span>,\n",
       "<span style=\"color: #7fbf7f; text-decoration-color: #7fbf7f\">│   </span><span style=\"color: #008000; text-decoration-color: #008000\">'downloads_tree.json'</span>,\n",
       "<span style=\"color: #7fbf7f; text-decoration-color: #7fbf7f\">│   </span><span style=\"color: #008000; text-decoration-color: #008000\">'glossary_terms.parquet'</span>,\n",
       "<span style=\"color: #7fbf7f; text-decoration-color: #7fbf7f\">│   </span><span style=\"color: #008000; text-decoration-color: #008000\">'legal_resources.parquet'</span>,\n",
       "<span style=\"color: #7fbf7f; text-decoration-color: #7fbf7f\">│   </span><span style=\"color: #008000; text-decoration-color: #008000\">'posts.parquet'</span>,\n",
       "<span style=\"color: #7fbf7f; text-decoration-color: #7fbf7f\">│   </span><span style=\"color: #008000; text-decoration-color: #008000\">'publications.parquet'</span>,\n",
       "<span style=\"color: #7fbf7f; text-decoration-color: #7fbf7f\">│   </span><span style=\"color: #008000; text-decoration-color: #008000\">'sections.parquet'</span>,\n",
       "<span style=\"color: #7fbf7f; text-decoration-color: #7fbf7f\">│   </span><span style=\"color: #008000; text-decoration-color: #008000\">'student_council_committees.parquet'</span>,\n",
       "<span style=\"color: #7fbf7f; text-decoration-color: #7fbf7f\">│   </span><span style=\"color: #008000; text-decoration-color: #008000\">'svtipps.parquet'</span>\n",
       "<span style=\"font-weight: bold\">]</span>\n",
       "</pre>\n"
      ],
      "text/plain": [
       "\u001b[1m[\u001b[0m\n",
       "\u001b[2;32m│   \u001b[0m\u001b[32m'downloads.parquet'\u001b[0m,\n",
       "\u001b[2;32m│   \u001b[0m\u001b[32m'downloads_tree.json'\u001b[0m,\n",
       "\u001b[2;32m│   \u001b[0m\u001b[32m'glossary_terms.parquet'\u001b[0m,\n",
       "\u001b[2;32m│   \u001b[0m\u001b[32m'legal_resources.parquet'\u001b[0m,\n",
       "\u001b[2;32m│   \u001b[0m\u001b[32m'posts.parquet'\u001b[0m,\n",
       "\u001b[2;32m│   \u001b[0m\u001b[32m'publications.parquet'\u001b[0m,\n",
       "\u001b[2;32m│   \u001b[0m\u001b[32m'sections.parquet'\u001b[0m,\n",
       "\u001b[2;32m│   \u001b[0m\u001b[32m'student_council_committees.parquet'\u001b[0m,\n",
       "\u001b[2;32m│   \u001b[0m\u001b[32m'svtipps.parquet'\u001b[0m\n",
       "\u001b[1m]\u001b[0m\n"
      ]
     },
     "metadata": {},
     "output_type": "display_data"
    }
   ],
   "source": [
    "show_bucket_objects()"
   ]
  },
  {
   "cell_type": "code",
   "execution_count": 7,
   "id": "58058027",
   "metadata": {},
   "outputs": [],
   "source": [
    "# df_sections = get_df(file_name=\"sections.parquet\")\n",
    "# print(len(df_sections))\n",
    "# df_sections.head()"
   ]
  },
  {
   "cell_type": "code",
   "execution_count": 8,
   "id": "7574d889",
   "metadata": {},
   "outputs": [],
   "source": [
    "# df_posts = get_df(file_name=\"posts.parquet\")\n",
    "# print(len(df_posts))\n",
    "# df_posts.head()"
   ]
  },
  {
   "cell_type": "code",
   "execution_count": 9,
   "id": "02881bfb",
   "metadata": {},
   "outputs": [],
   "source": [
    "# df_downloads = get_df(file_name=\"downloads.parquet\")\n",
    "# print(len(df_downloads))\n",
    "\n",
    "# display(df_downloads[\"file_type\"].value_counts())\n",
    "# df_downloads.head()"
   ]
  },
  {
   "cell_type": "code",
   "execution_count": 10,
   "id": "7edeea9a",
   "metadata": {},
   "outputs": [],
   "source": [
    "# download_tree = get_json(file_name=\"downloads_tree.json\")\n",
    "# pprint(download_tree)"
   ]
  },
  {
   "cell_type": "code",
   "execution_count": 11,
   "id": "d499c403",
   "metadata": {},
   "outputs": [
    {
     "name": "stdout",
     "output_type": "stream",
     "text": [
      "32\n"
     ]
    },
    {
     "data": {
      "text/html": [
       "<div><style>\n",
       ".dataframe > thead > tr,\n",
       ".dataframe > tbody > tr {\n",
       "  text-align: right;\n",
       "  white-space: pre-wrap;\n",
       "}\n",
       "</style>\n",
       "<small>shape: (5, 5)</small><table border=\"1\" class=\"dataframe\"><thead><tr><th>url</th><th>type</th><th>title</th><th>html</th><th>jurisdiction</th></tr><tr><td>str</td><td>str</td><td>str</td><td>str</td><td>cat</td></tr></thead><tbody><tr><td>&quot;https://gesetze.berlin.de/perm…</td><td>&quot;Schulgesetz&quot;</td><td>&quot;SchulG&quot;</td><td>&quot; &lt;a name=&quot;DocInhalt&quot;&gt; &lt;/a&gt;&nbsp;&nbsp;&nbsp;&lt;…</td><td>&quot;DE_BE&quot;</td></tr><tr><td>&quot;https://bravors.brandenburg.de…</td><td>&quot;Schulgesetz&quot;</td><td>&quot;BbgSchulG&quot;</td><td>&quot;&nbsp;&nbsp;&nbsp;&lt;ul&gt; &lt;li&gt;&lt;a&gt;Ansicht drucken…</td><td>&quot;DE_BB&quot;</td></tr><tr><td>&quot;https://landesrecht.thueringen…</td><td>&quot;Schulgesetz&quot;</td><td>&quot;ThürSchulG&quot;</td><td>&quot; &lt;a name=&quot;DocInhalt&quot;&gt; &lt;/a&gt;&nbsp;&nbsp;&nbsp;&lt;…</td><td>&quot;DE_TH&quot;</td></tr><tr><td>&quot;https://landesrecht.thueringen…</td><td>&quot;Schulordnung&quot;</td><td>&quot;ThürSchulO&quot;</td><td>&quot; &lt;a name=&quot;DocInhalt&quot;&gt; &lt;/a&gt;&nbsp;&nbsp;&nbsp;&lt;…</td><td>&quot;DE_TH&quot;</td></tr><tr><td>&quot;https://www.landesrecht.sachse…</td><td>&quot;Schulgesetz&quot;</td><td>&quot;SchulG LSA&quot;</td><td>&quot; &lt;a name=&quot;DocInhalt&quot;&gt; &lt;/a&gt;&nbsp;&nbsp;&nbsp;&lt;…</td><td>&quot;DE_ST&quot;</td></tr></tbody></table></div>"
      ],
      "text/plain": [
       "shape: (5, 5)\n",
       "┌───────────────────────────┬──────────────┬────────────┬───────────────────────────┬──────────────┐\n",
       "│ url                       ┆ type         ┆ title      ┆ html                      ┆ jurisdiction │\n",
       "│ ---                       ┆ ---          ┆ ---        ┆ ---                       ┆ ---          │\n",
       "│ str                       ┆ str          ┆ str        ┆ str                       ┆ cat          │\n",
       "╞═══════════════════════════╪══════════════╪════════════╪═══════════════════════════╪══════════════╡\n",
       "│ https://gesetze.berlin.de ┆ Schulgesetz  ┆ SchulG     ┆ <a name=\"DocInhalt\"> </a> ┆ DE_BE        │\n",
       "│ /perm…                    ┆              ┆            ┆ <…                        ┆              │\n",
       "│ https://bravors.brandenbu ┆ Schulgesetz  ┆ BbgSchulG  ┆ <ul> <li><a>Ansicht       ┆ DE_BB        │\n",
       "│ rg.de…                    ┆              ┆            ┆ drucken…                  ┆              │\n",
       "│ https://landesrecht.thuer ┆ Schulgesetz  ┆ ThürSchulG ┆ <a name=\"DocInhalt\"> </a> ┆ DE_TH        │\n",
       "│ ingen…                    ┆              ┆            ┆ <…                        ┆              │\n",
       "│ https://landesrecht.thuer ┆ Schulordnung ┆ ThürSchulO ┆ <a name=\"DocInhalt\"> </a> ┆ DE_TH        │\n",
       "│ ingen…                    ┆              ┆            ┆ <…                        ┆              │\n",
       "│ https://www.landesrecht.s ┆ Schulgesetz  ┆ SchulG LSA ┆ <a name=\"DocInhalt\"> </a> ┆ DE_ST        │\n",
       "│ achse…                    ┆              ┆            ┆ <…                        ┆              │\n",
       "└───────────────────────────┴──────────────┴────────────┴───────────────────────────┴──────────────┘"
      ]
     },
     "execution_count": 11,
     "metadata": {},
     "output_type": "execute_result"
    }
   ],
   "source": [
    "df_legal_resources = get_df(file_name=\"legal_resources.parquet\")\n",
    "print(len(df_legal_resources))\n",
    "df_legal_resources.head()"
   ]
  },
  {
   "cell_type": "code",
   "execution_count": 12,
   "id": "8e7ada4b",
   "metadata": {},
   "outputs": [
    {
     "name": "stdout",
     "output_type": "stream",
     "text": [
      "3\n"
     ]
    },
    {
     "data": {
      "text/html": [
       "<div><style>\n",
       ".dataframe > thead > tr,\n",
       ".dataframe > tbody > tr {\n",
       "  text-align: right;\n",
       "  white-space: pre-wrap;\n",
       "}\n",
       "</style>\n",
       "<small>shape: (3, 11)</small><table border=\"1\" class=\"dataframe\"><thead><tr><th>key</th><th>type</th><th>title</th><th>authors</th><th>abstract</th><th>date</th><th>url</th><th>pdf_binary</th><th>jurisdiction</th><th>school_type</th><th>tags</th></tr><tr><td>str</td><td>str</td><td>str</td><td>list[str]</td><td>str</td><td>str</td><td>str</td><td>binary</td><td>cat</td><td>cat</td><td>list[str]</td></tr></thead><tbody><tr><td>&quot;21001957/D794UHKJ&quot;</td><td>&quot;book&quot;</td><td>&quot;Pimp my school : 1x1 der SV-Ar…</td><td>[&quot;Felix Scheel&quot;]</td><td>&quot;Das Handbuch greift alle klass…</td><td>&quot;2023-08&quot;</td><td>&quot;https://collections.fes.de/pub…</td><td>b&quot;%PDF-1.7\\x0d%\\xe2\\xe3\\xcf\\xd3\\x0d\\x0a4814\\x200\\x20obj\\x0d&lt;&lt;/Linearized\\x201/L\\x207810875/O\\x204816/&quot;…</td><td>&quot;DE_MV&quot;</td><td>null</td><td>[]</td></tr><tr><td>&quot;21001957/MRSKJQKT&quot;</td><td>&quot;book&quot;</td><td>&quot;Rechtsextremismus &amp; Schule: Th…</td><td>[&quot;Schule ohne Rassismus – Schule mit Courage&quot;]</td><td>null</td><td>&quot;2024&quot;</td><td>&quot;https://www.schule-ohne-rassis…</td><td>b&quot;%PDF-1.7\\x0d%\\xe2\\xe3\\xcf\\xd3\\x0d\\x0a1320\\x200\\x20obj\\x0d&lt;&lt;/Linearized\\x201/L\\x209313914/O\\x201325/&quot;…</td><td>null</td><td>null</td><td>null</td></tr><tr><td>&quot;21001957/GBX9H2JU&quot;</td><td>&quot;article&quot;</td><td>&quot;Handbuch für Klassensprecher*i…</td><td>[&quot;Jugendbildungsstätte Kurt Löwenstein&quot;]</td><td>null</td><td>&quot;2024&quot;</td><td>&quot;https://www.kurt-loewenstein.d…</td><td>b&quot;%PDF-1.6\\x0d%\\xe2\\xe3\\xcf\\xd3\\x0d\\x0a1\\x200\\x20obj\\x0d&lt;&lt;/Lang(de-DE)/Metadata\\x202\\x200\\x20R/Output&quot;…</td><td>&quot;DE_BE&quot;</td><td>&quot;elementary&quot;</td><td>[]</td></tr></tbody></table></div>"
      ],
      "text/plain": [
       "shape: (3, 11)\n",
       "┌────────────┬─────────┬───────────┬───────────┬───┬───────────┬───────────┬───────────┬───────────┐\n",
       "│ key        ┆ type    ┆ title     ┆ authors   ┆ … ┆ pdf_binar ┆ jurisdict ┆ school_ty ┆ tags      │\n",
       "│ ---        ┆ ---     ┆ ---       ┆ ---       ┆   ┆ y         ┆ ion       ┆ pe        ┆ ---       │\n",
       "│ str        ┆ str     ┆ str       ┆ list[str] ┆   ┆ ---       ┆ ---       ┆ ---       ┆ list[str] │\n",
       "│            ┆         ┆           ┆           ┆   ┆ binary    ┆ cat       ┆ cat       ┆           │\n",
       "╞════════════╪═════════╪═══════════╪═══════════╪═══╪═══════════╪═══════════╪═══════════╪═══════════╡\n",
       "│ 21001957/D ┆ book    ┆ Pimp my   ┆ [\"Felix   ┆ … ┆ b\"%PDF-1. ┆ DE_MV     ┆ null      ┆ []        │\n",
       "│ 794UHKJ    ┆         ┆ school :  ┆ Scheel\"]  ┆   ┆ 7\\x0d%\\xe ┆           ┆           ┆           │\n",
       "│            ┆         ┆ 1x1 der   ┆           ┆   ┆ 2\\xe3\\xcf ┆           ┆           ┆           │\n",
       "│            ┆         ┆ SV-Ar…    ┆           ┆   ┆ \\xd…      ┆           ┆           ┆           │\n",
       "│ 21001957/M ┆ book    ┆ Rechtsext ┆ [\"Schule  ┆ … ┆ b\"%PDF-1. ┆ null      ┆ null      ┆ null      │\n",
       "│ RSKJQKT    ┆         ┆ remismus  ┆ ohne      ┆   ┆ 7\\x0d%\\xe ┆           ┆           ┆           │\n",
       "│            ┆         ┆ & Schule: ┆ Rassismus ┆   ┆ 2\\xe3\\xcf ┆           ┆           ┆           │\n",
       "│            ┆         ┆ Th…       ┆ – Schu…   ┆   ┆ \\xd…      ┆           ┆           ┆           │\n",
       "│ 21001957/G ┆ article ┆ Handbuch  ┆ [\"Jugendb ┆ … ┆ b\"%PDF-1. ┆ DE_BE     ┆ elementar ┆ []        │\n",
       "│ BX9H2JU    ┆         ┆ für Klass ┆ ildungsst ┆   ┆ 6\\x0d%\\xe ┆           ┆ y         ┆           │\n",
       "│            ┆         ┆ enspreche ┆ ätte Kurt ┆   ┆ 2\\xe3\\xcf ┆           ┆           ┆           │\n",
       "│            ┆         ┆ r*i…      ┆ Lö…       ┆   ┆ \\xd…      ┆           ┆           ┆           │\n",
       "└────────────┴─────────┴───────────┴───────────┴───┴───────────┴───────────┴───────────┴───────────┘"
      ]
     },
     "execution_count": 12,
     "metadata": {},
     "output_type": "execute_result"
    }
   ],
   "source": [
    "df_legal_resources = get_df(file_name=\"publications.parquet\")\n",
    "print(len(df_legal_resources))\n",
    "df_legal_resources.head()"
   ]
  },
  {
   "cell_type": "code",
   "execution_count": 13,
   "id": "f1bf5737",
   "metadata": {},
   "outputs": [
    {
     "name": "stdout",
     "output_type": "stream",
     "text": [
      "97\n"
     ]
    },
    {
     "data": {
      "text/html": [
       "<div><style>\n",
       ".dataframe > thead > tr,\n",
       ".dataframe > tbody > tr {\n",
       "  text-align: right;\n",
       "  white-space: pre-wrap;\n",
       "}\n",
       "</style>\n",
       "<small>shape: (5, 5)</small><table border=\"1\" class=\"dataframe\"><thead><tr><th>title</th><th>url</th><th>html_content</th><th>category</th><th>subcategory</th></tr><tr><td>str</td><td>str</td><td>str</td><td>str</td><td>str</td></tr></thead><tbody><tr><td>&quot;Struktur – SVTipps – Von Schül…</td><td>&quot;https://svtipps.de/struktur/&quot;</td><td>&quot;&lt;h1&gt;Struktur&lt;/h1&gt;&lt;p&gt;Ihr wollt,…</td><td>&quot;Struktur&quot;</td><td>null</td></tr><tr><td>&quot;Die Schülervertretung – SVTipp…</td><td>&quot;https://svtipps.de/struktur/di…</td><td>&quot;&lt;h1&gt;Die Schülervertretung&lt;/h1&gt;…</td><td>&quot;Struktur&quot;</td><td>null</td></tr><tr><td>&quot;Schulsprecher*in – SVTipps – V…</td><td>&quot;https://svtipps.de/struktur/sc…</td><td>&quot;&lt;h1&gt;Schulsprecher*in&lt;/h1&gt;&lt;p&gt;Di…</td><td>&quot;Struktur&quot;</td><td>null</td></tr><tr><td>&quot;Klassensprecher*in &amp; Stufenspr…</td><td>&quot;https://svtipps.de/struktur/kl…</td><td>&quot;&lt;h1&gt;Klassensprecher*in &amp;amp; S…</td><td>&quot;Struktur&quot;</td><td>null</td></tr><tr><td>&quot;Kassenwart – SVTipps – Von Sch…</td><td>&quot;https://svtipps.de/struktur/ka…</td><td>&quot;&lt;h1&gt;Kassenwart&lt;/h1&gt;&lt;p&gt;Der Kass…</td><td>&quot;Struktur&quot;</td><td>null</td></tr></tbody></table></div>"
      ],
      "text/plain": [
       "shape: (5, 5)\n",
       "┌────────────────────────┬────────────────────────┬───────────────────────┬──────────┬─────────────┐\n",
       "│ title                  ┆ url                    ┆ html_content          ┆ category ┆ subcategory │\n",
       "│ ---                    ┆ ---                    ┆ ---                   ┆ ---      ┆ ---         │\n",
       "│ str                    ┆ str                    ┆ str                   ┆ str      ┆ str         │\n",
       "╞════════════════════════╪════════════════════════╪═══════════════════════╪══════════╪═════════════╡\n",
       "│ Struktur – SVTipps –   ┆ https://svtipps.de/str ┆ <h1>Struktur</h1><p>I ┆ Struktur ┆ null        │\n",
       "│ Von Schül…             ┆ uktur/                 ┆ hr wollt,…            ┆          ┆             │\n",
       "│ Die Schülervertretung  ┆ https://svtipps.de/str ┆ <h1>Die Schülervertre ┆ Struktur ┆ null        │\n",
       "│ – SVTipp…              ┆ uktur/di…              ┆ tung</h1>…            ┆          ┆             │\n",
       "│ Schulsprecher*in –     ┆ https://svtipps.de/str ┆ <h1>Schulsprecher*in< ┆ Struktur ┆ null        │\n",
       "│ SVTipps – V…           ┆ uktur/sc…              ┆ /h1><p>Di…            ┆          ┆             │\n",
       "│ Klassensprecher*in &   ┆ https://svtipps.de/str ┆ <h1>Klassensprecher*i ┆ Struktur ┆ null        │\n",
       "│ Stufenspr…             ┆ uktur/kl…              ┆ n &amp; S…            ┆          ┆             │\n",
       "│ Kassenwart – SVTipps – ┆ https://svtipps.de/str ┆ <h1>Kassenwart</h1><p ┆ Struktur ┆ null        │\n",
       "│ Von Sch…               ┆ uktur/ka…              ┆ >Der Kass…            ┆          ┆             │\n",
       "└────────────────────────┴────────────────────────┴───────────────────────┴──────────┴─────────────┘"
      ]
     },
     "execution_count": 13,
     "metadata": {},
     "output_type": "execute_result"
    }
   ],
   "source": [
    "df_svtipps = get_df(file_name=\"svtipps.parquet\")\n",
    "print(len(df_svtipps))\n",
    "df_svtipps.head()"
   ]
  },
  {
   "cell_type": "code",
   "execution_count": null,
   "id": "3414d9d7",
   "metadata": {},
   "outputs": [
    {
     "name": "stdout",
     "output_type": "stream",
     "text": [
      "33\n"
     ]
    },
    {
     "data": {
      "text/html": [
       "<div><style>\n",
       ".dataframe > thead > tr,\n",
       ".dataframe > tbody > tr {\n",
       "  text-align: right;\n",
       "  white-space: pre-wrap;\n",
       "}\n",
       "</style>\n",
       "<small>shape: (5, 19)</small><table border=\"1\" class=\"dataframe\"><thead><tr><th>term</th><th>definition</th><th>DE</th><th>DE_BW</th><th>DE_BY</th><th>DE_BE</th><th>DE_BB</th><th>DE_HB</th><th>DE_HH</th><th>DE_HE</th><th>DE_MV</th><th>DE_NI</th><th>DE_NW</th><th>DE_RP</th><th>DE_SL</th><th>DE_SN</th><th>DE_ST</th><th>DE_SH</th><th>DE_TH</th></tr><tr><td>str</td><td>str</td><td>str</td><td>str</td><td>str</td><td>str</td><td>str</td><td>str</td><td>str</td><td>str</td><td>str</td><td>str</td><td>str</td><td>str</td><td>str</td><td>str</td><td>str</td><td>str</td><td>str</td></tr></thead><tbody><tr><td>&quot;Antrag&quot;</td><td>&quot;Ein Antrag ist ein Vorschlag, …</td><td>null</td><td>null</td><td>null</td><td>null</td><td>null</td><td>null</td><td>null</td><td>null</td><td>null</td><td>null</td><td>null</td><td>null</td><td>null</td><td>null</td><td>null</td><td>null</td><td>null</td></tr><tr><td>&quot;Aufgabenprofil&quot;</td><td>&quot;Ihr schreibt transparent und k…</td><td>null</td><td>null</td><td>null</td><td>null</td><td>null</td><td>null</td><td>null</td><td>null</td><td>null</td><td>null</td><td>null</td><td>null</td><td>null</td><td>null</td><td>null</td><td>null</td><td>null</td></tr><tr><td>&quot;Auftaktveranstaltung / SV-Tag&quot;</td><td>&quot;Start in die SV-Arbeit zu Begi…</td><td>&quot;Start in die SV-Arbeit zu Begi…</td><td>null</td><td>null</td><td>null</td><td>null</td><td>null</td><td>null</td><td>null</td><td>null</td><td>null</td><td>null</td><td>null</td><td>null</td><td>null</td><td>null</td><td>null</td><td>null</td></tr><tr><td>&quot;Bezirks-/ Kreis &amp; Landesschüle…</td><td>null</td><td>&quot;BSK (Bundesschülerkonferenz – …</td><td>null</td><td>null</td><td>&quot;BSA und LSA (Bezirksschüler- u…</td><td>&quot;KSR und LSR (Kreisschüler- und…</td><td>null</td><td>null</td><td>null</td><td>&quot;KSR und LSR (Kreisschüler- und…</td><td>null</td><td>&quot;BSV und LSV (Bezirksschüler- u…</td><td>null</td><td>null</td><td>null</td><td>&quot;KSR und LSR (Kreisschüler- und…</td><td>null</td><td>&quot;Kreisschülersprecher:innen und…</td></tr><tr><td>&quot;BSK&quot;</td><td>&quot;Bundesschülerkonferenz. Sie be…</td><td>&quot;Bundesschülerkonferenz. Sie be…</td><td>null</td><td>null</td><td>null</td><td>null</td><td>null</td><td>null</td><td>null</td><td>null</td><td>null</td><td>null</td><td>null</td><td>null</td><td>null</td><td>null</td><td>null</td><td>null</td></tr></tbody></table></div>"
      ],
      "text/plain": [
       "shape: (5, 19)\n",
       "┌──────────────┬─────────────┬─────────────┬───────┬───┬───────┬─────────────┬───────┬─────────────┐\n",
       "│ term         ┆ definition  ┆ DE          ┆ DE_BW ┆ … ┆ DE_SN ┆ DE_ST       ┆ DE_SH ┆ DE_TH       │\n",
       "│ ---          ┆ ---         ┆ ---         ┆ ---   ┆   ┆ ---   ┆ ---         ┆ ---   ┆ ---         │\n",
       "│ str          ┆ str         ┆ str         ┆ str   ┆   ┆ str   ┆ str         ┆ str   ┆ str         │\n",
       "╞══════════════╪═════════════╪═════════════╪═══════╪═══╪═══════╪═════════════╪═══════╪═════════════╡\n",
       "│ Antrag       ┆ Ein Antrag  ┆ null        ┆ null  ┆ … ┆ null  ┆ null        ┆ null  ┆ null        │\n",
       "│              ┆ ist ein     ┆             ┆       ┆   ┆       ┆             ┆       ┆             │\n",
       "│              ┆ Vorschlag,  ┆             ┆       ┆   ┆       ┆             ┆       ┆             │\n",
       "│              ┆ …           ┆             ┆       ┆   ┆       ┆             ┆       ┆             │\n",
       "│ Aufgabenprof ┆ Ihr         ┆ null        ┆ null  ┆ … ┆ null  ┆ null        ┆ null  ┆ null        │\n",
       "│ il           ┆ schreibt    ┆             ┆       ┆   ┆       ┆             ┆       ┆             │\n",
       "│              ┆ transparent ┆             ┆       ┆   ┆       ┆             ┆       ┆             │\n",
       "│              ┆ und k…      ┆             ┆       ┆   ┆       ┆             ┆       ┆             │\n",
       "│ Auftaktveran ┆ Start in    ┆ Start in    ┆ null  ┆ … ┆ null  ┆ null        ┆ null  ┆ null        │\n",
       "│ staltung /   ┆ die         ┆ die         ┆       ┆   ┆       ┆             ┆       ┆             │\n",
       "│ SV-Tag       ┆ SV-Arbeit   ┆ SV-Arbeit   ┆       ┆   ┆       ┆             ┆       ┆             │\n",
       "│              ┆ zu Begi…    ┆ zu Begi…    ┆       ┆   ┆       ┆             ┆       ┆             │\n",
       "│ Bezirks-/    ┆ null        ┆ BSK (Bundes ┆ null  ┆ … ┆ null  ┆ KSR und LSR ┆ null  ┆ Kreisschüle │\n",
       "│ Kreis & Land ┆             ┆ schülerkonf ┆       ┆   ┆       ┆ (Kreisschül ┆       ┆ rsprecher:i │\n",
       "│ esschüle…    ┆             ┆ erenz – …   ┆       ┆   ┆       ┆ er- und…    ┆       ┆ nnen und…   │\n",
       "│ BSK          ┆ Bundesschül ┆ Bundesschül ┆ null  ┆ … ┆ null  ┆ null        ┆ null  ┆ null        │\n",
       "│              ┆ erkonferenz ┆ erkonferenz ┆       ┆   ┆       ┆             ┆       ┆             │\n",
       "│              ┆ . Sie be…   ┆ . Sie be…   ┆       ┆   ┆       ┆             ┆       ┆             │\n",
       "└──────────────┴─────────────┴─────────────┴───────┴───┴───────┴─────────────┴───────┴─────────────┘"
      ]
     },
     "execution_count": 14,
     "metadata": {},
     "output_type": "execute_result"
    }
   ],
   "source": [
    "# TODO: Ask Jonas why jurisdiction here? How to use the glossary?\n",
    "df_glossary_terms = get_df(file_name=\"glossary_terms.parquet\")\n",
    "print(len(df_glossary_terms))\n",
    "df_glossary_terms.head()"
   ]
  },
  {
   "cell_type": "code",
   "execution_count": null,
   "id": "57508462",
   "metadata": {},
   "outputs": [],
   "source": [
    "# TODO: Ask Jonas what is this?\n",
    "df_student_council_committees = get_df(\n",
    "    file_name=\"student_council_committees.parquet\"\n",
    ")\n",
    "\n",
    "print(len(df_student_council_committees))\n",
    "df_student_council_committees.head()"
   ]
  },
  {
   "cell_type": "code",
   "execution_count": null,
   "id": "6bf35446",
   "metadata": {},
   "outputs": [],
   "source": []
  }
 ],
 "metadata": {
  "kernelspec": {
   "display_name": "Python 3",
   "language": "python",
   "name": "python3"
  },
  "language_info": {
   "codemirror_mode": {
    "name": "ipython",
    "version": 3
   },
   "file_extension": ".py",
   "mimetype": "text/x-python",
   "name": "python",
   "nbconvert_exporter": "python",
   "pygments_lexer": "ipython3",
   "version": "3.13.3"
  }
 },
 "nbformat": 4,
 "nbformat_minor": 5
}
