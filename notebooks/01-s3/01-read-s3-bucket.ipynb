{
 "cells": [
  {
   "cell_type": "code",
   "execution_count": null,
   "id": "c632978b",
   "metadata": {},
   "outputs": [],
   "source": [
    "import os\n",
    "import json\n",
    "import boto3\n",
    "import requests\n",
    "\n",
    "import polars as pl\n",
    "\n",
    "from botocore import UNSIGNED\n",
    "from botocore.config import Config\n",
    "\n",
    "from rich.pretty import pprint\n"
   ]
  },
  {
   "cell_type": "code",
   "execution_count": null,
   "id": "b47b7fdc",
   "metadata": {},
   "outputs": [],
   "source": [
    "BASE_URL = \"https://cdl-segg.fra1.cdn.digitaloceanspaces.com/cdl-segg\""
   ]
  },
  {
   "cell_type": "code",
   "execution_count": null,
   "id": "4aa412d7",
   "metadata": {},
   "outputs": [],
   "source": [
    "def get_df(file_name: str) -> pl.DataFrame:\n",
    "    response = requests.get(f\"{BASE_URL}/{file_name}\")\n",
    "    response.raise_for_status()\n",
    "\n",
    "    return pl.read_parquet(response.content)"
   ]
  },
  {
   "cell_type": "code",
   "execution_count": null,
   "id": "ccca9b39",
   "metadata": {},
   "outputs": [],
   "source": [
    "def get_json(file_name: str) -> dict:\n",
    "    response = requests.get(f\"{BASE_URL}/{file_name}\")\n",
    "    response.raise_for_status()\n",
    "\n",
    "    return json.loads(response.content)"
   ]
  },
  {
   "cell_type": "code",
   "execution_count": null,
   "id": "90c24842",
   "metadata": {},
   "outputs": [],
   "source": [
    "def show_bucket_objects() -> None:\n",
    "    s3 = boto3.client(\n",
    "        \"s3\",\n",
    "        endpoint_url=\"https://fra1.digitaloceanspaces.com\",\n",
    "        config=Config(signature_version=UNSIGNED),\n",
    "    )\n",
    "\n",
    "    bucket_name = \"cdl-segg\"\n",
    "    resp = s3.list_objects_v2(\n",
    "        Bucket=bucket_name,\n",
    "        Prefix=\"cdl-segg/\",\n",
    "    )\n",
    "\n",
    "    parquets = (os.path.basename(item[\"Key\"]) for item in resp[\"Contents\"])\n",
    "    parquets = [p for p in parquets if not p.startswith(\"smoke_test_\")]\n",
    "\n",
    "    print(f\"parquets: {len(parquets)}\")\n",
    "    pprint(parquets)"
   ]
  },
  {
   "cell_type": "code",
   "execution_count": null,
   "id": "9ac1d5f3",
   "metadata": {},
   "outputs": [],
   "source": [
    "show_bucket_objects()"
   ]
  },
  {
   "cell_type": "code",
   "execution_count": null,
   "id": "58058027",
   "metadata": {},
   "outputs": [],
   "source": [
    "df_sections = get_df(file_name=\"sections.parquet\")\n",
    "print(len(df_sections))\n",
    "df_sections.head()"
   ]
  },
  {
   "cell_type": "code",
   "execution_count": null,
   "id": "7574d889",
   "metadata": {},
   "outputs": [],
   "source": [
    "df_posts = get_df(file_name=\"posts.parquet\")\n",
    "print(len(df_posts))\n",
    "df_posts.head()"
   ]
  },
  {
   "cell_type": "code",
   "execution_count": null,
   "id": "02881bfb",
   "metadata": {},
   "outputs": [],
   "source": [
    "# TODO: Ask to Jonas.\n",
    "# TODO: category_title => some times are regions, I always need the region?\n",
    "df_downloads = get_df(file_name=\"downloads.parquet\")\n",
    "print(len(df_downloads))\n",
    "\n",
    "display(df_downloads[\"file_type\"].value_counts())\n",
    "df_downloads.head()"
   ]
  },
  {
   "cell_type": "code",
   "execution_count": null,
   "id": "2671fb10",
   "metadata": {},
   "outputs": [],
   "source": [
    "df_downloads[\"category_title\"].unique().to_list()"
   ]
  },
  {
   "cell_type": "code",
   "execution_count": null,
   "id": "7edeea9a",
   "metadata": {},
   "outputs": [],
   "source": [
    "# download_tree = get_json(file_name=\"downloads_tree.json\")\n",
    "# pprint(download_tree)"
   ]
  },
  {
   "cell_type": "code",
   "execution_count": null,
   "id": "d499c403",
   "metadata": {},
   "outputs": [],
   "source": [
    "df_legal_resources = get_df(file_name=\"legal_resources.parquet\")\n",
    "print(len(df_legal_resources))\n",
    "df_legal_resources.head()"
   ]
  },
  {
   "cell_type": "code",
   "execution_count": null,
   "id": "8e7ada4b",
   "metadata": {},
   "outputs": [],
   "source": [
    "df_legal_resources = get_df(file_name=\"publications.parquet\")\n",
    "print(len(df_legal_resources))\n",
    "df_legal_resources.head()"
   ]
  },
  {
   "cell_type": "code",
   "execution_count": null,
   "id": "f1bf5737",
   "metadata": {},
   "outputs": [],
   "source": [
    "df_svtipps = get_df(file_name=\"svtipps.parquet\")\n",
    "print(len(df_svtipps))\n",
    "df_svtipps.head()"
   ]
  },
  {
   "cell_type": "code",
   "execution_count": null,
   "id": "3414d9d7",
   "metadata": {},
   "outputs": [],
   "source": [
    "# TODO: Ask Jonas why jurisdiction here? How to use the glossary?\n",
    "df_glossary_terms = get_df(file_name=\"glossary_terms.parquet\")\n",
    "print(len(df_glossary_terms))\n",
    "df_glossary_terms.head()"
   ]
  },
  {
   "cell_type": "code",
   "execution_count": null,
   "id": "57508462",
   "metadata": {},
   "outputs": [],
   "source": [
    "df_student_council_committees = get_df(\n",
    "    file_name=\"student_council_committees.parquet\"\n",
    ")\n",
    "\n",
    "print(len(df_student_council_committees))\n",
    "df_student_council_committees.head()"
   ]
  },
  {
   "cell_type": "code",
   "execution_count": null,
   "id": "dc3328c2",
   "metadata": {},
   "outputs": [],
   "source": [
    "df_student_council_committees[\"name\"].to_list()"
   ]
  },
  {
   "cell_type": "code",
   "execution_count": null,
   "id": "c8c7b123",
   "metadata": {},
   "outputs": [],
   "source": []
  }
 ],
 "metadata": {
  "kernelspec": {
   "display_name": "Python 3",
   "language": "python",
   "name": "python3"
  },
  "language_info": {
   "codemirror_mode": {
    "name": "ipython",
    "version": 3
   },
   "file_extension": ".py",
   "mimetype": "text/x-python",
   "name": "python",
   "nbconvert_exporter": "python",
   "pygments_lexer": "ipython3",
   "version": "3.13.3"
  }
 },
 "nbformat": 4,
 "nbformat_minor": 5
}
